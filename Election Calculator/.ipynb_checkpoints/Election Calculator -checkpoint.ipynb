{
 "cells": [
  {
   "cell_type": "code",
   "execution_count": 1,
   "id": "7c91de1d",
   "metadata": {},
   "outputs": [],
   "source": [
    "flokkar = [\"B\", \"C\", \"D\", \"F\", \"J\", \"M\", \"O\", \"P\", \"S\", \"V\", \"Y\", \"AoO\"]"
   ]
  },
  {
   "cell_type": "code",
   "execution_count": 2,
   "id": "8306753d",
   "metadata": {},
   "outputs": [],
   "source": [
    "kjordaemi = [\"NV\", \"NA\", \"SU\", \"SV\", \"RS\", \"RN\"]"
   ]
  },
  {
   "cell_type": "code",
   "execution_count": 3,
   "id": "40c7845d",
   "metadata": {},
   "outputs": [],
   "source": [
    "thingsaeti = [[7,1], [9,1], [9,1], [11,2], [9,2], [9,2]]"
   ]
  },
  {
   "cell_type": "code",
   "execution_count": 4,
   "id": "40797ce5",
   "metadata": {},
   "outputs": [],
   "source": [
    "atkNV = [4448, 1063, 3897, 1510, 728, 1278, 73, 1081, 1195, 1978, 0, 417]\n",
    "atkNA = [6016, 1263, 4346, 2026, 954, 2092, 78, 1256, 2465, 3040, 0, 644]\n",
    "atkSU = [7111, 1845, 7296, 3837, 1094, 2207, 193, 1660, 2270, 2200, 0, 668]\n",
    "atkSV = [8520, 6684, 17727, 4436, 1738, 2612, 203, 4853, 4748, 7087, 0, 1212]\n",
    "atkRS = [4077, 3067, 8089, 3169, 1691, 1456, 148, 3875, 4720, 5212, 0, 697]\n",
    "atkRN = [4329, 2706, 7353, 2694, 1976, 1234, 150, 4508, 4427, 5597, 144, 610]"
   ]
  },
  {
   "cell_type": "code",
   "execution_count": 5,
   "id": "5c64d9b7",
   "metadata": {},
   "outputs": [],
   "source": [
    "def utktolur(flokk, atkv):\n",
    "  nidurstodur = {}\n",
    "  for i in range(len(flokk)):\n",
    "    for j in range(1,6):\n",
    "      nidurstodur.update({flokk[i] + str(j) : (atkv[i]/j)})\n",
    "  return nidurstodur"
   ]
  },
  {
   "cell_type": "code",
   "execution_count": 6,
   "id": "5329d30c",
   "metadata": {},
   "outputs": [],
   "source": [
    "utkNV = utktolur(flokkar, atkNV)\n",
    "utkNA = utktolur(flokkar, atkNA)\n",
    "utkSU = utktolur(flokkar, atkSU)\n",
    "utkSV = utktolur(flokkar, atkSV)\n",
    "utkRS = utktolur(flokkar, atkRS)\n",
    "utkRN = utktolur(flokkar, atkRN)"
   ]
  },
  {
   "cell_type": "code",
   "execution_count": 7,
   "id": "b1130539",
   "metadata": {},
   "outputs": [],
   "source": [
    "def toputk(utkx, saeti):\n",
    "  sort = sorted(utkx.items(), key=lambda x: x[1], reverse=True)\n",
    "  topsort = sort[:saeti]\n",
    "  return topsort"
   ]
  },
  {
   "cell_type": "code",
   "execution_count": 8,
   "id": "9657940f",
   "metadata": {},
   "outputs": [],
   "source": [
    "topNV = toputk(utkNV, 7)\n",
    "topNA = toputk(utkNA, 9)\n",
    "topSU = toputk(utkSU, 9)\n",
    "topSV = toputk(utkSV, 11)\n",
    "topRS = toputk(utkRS, 9)\n",
    "topRN = toputk(utkRN, 9)"
   ]
  },
  {
   "cell_type": "code",
   "execution_count": 9,
   "id": "0bcd9b9e",
   "metadata": {},
   "outputs": [],
   "source": [
    "fimmflokkar = [\"B\", \"C\", \"D\", \"F\", \"M\", \"P\", \"S\", \"V\", \"AoO\"]"
   ]
  },
  {
   "cell_type": "code",
   "execution_count": 10,
   "id": "9dc5c64c",
   "metadata": {},
   "outputs": [],
   "source": [
    "fimmflokkakjsaeti = [13, 3, 16, 6, 2, 3, 5, 6, 0]"
   ]
  },
  {
   "cell_type": "code",
   "execution_count": 11,
   "id": "b74c5bdf",
   "metadata": {},
   "outputs": [],
   "source": [
    "def fimmflokkaatkvaedi(atkvaedi):\n",
    "  atkvaedi[11] = atkvaedi[11] + atkvaedi[4] + atkvaedi[6] + atkvaedi[10]\n",
    "  atkvaedi.pop(10)\n",
    "  atkvaedi.pop(6)\n",
    "  atkvaedi.pop(4)\n",
    "  return atkvaedi"
   ]
  },
  {
   "cell_type": "code",
   "execution_count": 12,
   "id": "cf416cd9",
   "metadata": {},
   "outputs": [],
   "source": [
    "fimmatkvNV = fimmflokkaatkvaedi(atkNV)\n",
    "fimmatkvNA = fimmflokkaatkvaedi(atkNA)\n",
    "fimmatkvSU = fimmflokkaatkvaedi(atkSU)\n",
    "fimmatkvSV = fimmflokkaatkvaedi(atkSV)\n",
    "fimmatkvRS = fimmflokkaatkvaedi(atkRS)\n",
    "fimmatkvRN = fimmflokkaatkvaedi(atkRN)"
   ]
  },
  {
   "cell_type": "code",
   "execution_count": 13,
   "id": "7a5913fe",
   "metadata": {},
   "outputs": [],
   "source": [
    "landatkv = []"
   ]
  },
  {
   "cell_type": "code",
   "execution_count": 14,
   "id": "994d0f78",
   "metadata": {},
   "outputs": [],
   "source": [
    "for i in range(len(fimmflokkar)):\n",
    "  landatkv.append(fimmatkvNV[i] + fimmatkvNA[i] + fimmatkvSU[i] + fimmatkvSV[i] + fimmatkvRS[i] + fimmatkvRN[i])"
   ]
  },
  {
   "cell_type": "code",
   "execution_count": 15,
   "id": "9a5d8cc2",
   "metadata": {},
   "outputs": [],
   "source": [
    "jofnunarsaeti = {}"
   ]
  },
  {
   "cell_type": "code",
   "execution_count": 16,
   "id": "367af9ba",
   "metadata": {},
   "outputs": [],
   "source": [
    "for i in range(len(fimmflokkar)):\n",
    "  for j in range(1,8):\n",
    "    jofnunarsaeti.update({fimmflokkar[i] + str(fimmflokkakjsaeti[i] + j) : (landatkv[i] / (fimmflokkakjsaeti[i] + j))})\n",
    "jofnunarsaetisort = sorted(jofnunarsaeti.items(), key=lambda x: x[1], reverse=True)"
   ]
  },
  {
   "cell_type": "code",
   "execution_count": 17,
   "id": "b402c002",
   "metadata": {},
   "outputs": [],
   "source": [
    "topjofn = jofnunarsaetisort[:9]"
   ]
  },
  {
   "cell_type": "code",
   "execution_count": 18,
   "id": "bd8a4276",
   "metadata": {},
   "outputs": [
    {
     "name": "stdout",
     "output_type": "stream",
     "text": [
      "[('AoO1', 13418.0), ('AoO2', 6709.0), ('AoO3', 4472.666666666667), ('P4', 4308.25), ('C4', 4157.0), ('M3', 3626.3333333333335), ('V7', 3587.714285714286), ('P5', 3446.6), ('AoO4', 3354.5)]\n"
     ]
    }
   ],
   "source": [
    "print(topjofn)"
   ]
  },
  {
   "cell_type": "code",
   "execution_count": 19,
   "id": "5dddb14f",
   "metadata": {},
   "outputs": [],
   "source": [
    "# description, text and images to come"
   ]
  },
  {
   "cell_type": "code",
   "execution_count": null,
   "id": "3f84ee1b",
   "metadata": {},
   "outputs": [],
   "source": []
  }
 ],
 "metadata": {
  "kernelspec": {
   "display_name": "Python 3 (ipykernel)",
   "language": "python",
   "name": "python3"
  },
  "language_info": {
   "codemirror_mode": {
    "name": "ipython",
    "version": 3
   },
   "file_extension": ".py",
   "mimetype": "text/x-python",
   "name": "python",
   "nbconvert_exporter": "python",
   "pygments_lexer": "ipython3",
   "version": "3.9.12"
  }
 },
 "nbformat": 4,
 "nbformat_minor": 5
}
